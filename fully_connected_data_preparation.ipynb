{
 "cells": [
  {
   "cell_type": "code",
   "execution_count": 1,
   "metadata": {},
   "outputs": [],
   "source": [
    "from dataset import Dataset, Sample\n",
    "import utils\n",
    "import numpy as np\n",
    "import torch"
   ]
  },
  {
   "cell_type": "code",
   "execution_count": 2,
   "metadata": {},
   "outputs": [],
   "source": [
    "from sklearn.preprocessing import OneHotEncoder\n",
    "from sklearn.model_selection import train_test_split"
   ]
  },
  {
   "cell_type": "code",
   "execution_count": 3,
   "metadata": {},
   "outputs": [],
   "source": [
    "import pickle"
   ]
  },
  {
   "cell_type": "code",
   "execution_count": 4,
   "metadata": {},
   "outputs": [],
   "source": [
    "ds = Dataset.Load(\"datasets/gds/training\") # Load the dataset"
   ]
  },
  {
   "cell_type": "code",
   "execution_count": 5,
   "metadata": {},
   "outputs": [],
   "source": [
    "class PreprocessedSample(object):\n",
    "    def __init__(self, sample: Sample, resample_count=64):\n",
    "        trajectory = utils.resample(sample.trajectory, resample_count)\n",
    "        trajectory = utils.scale_to_unit_square(trajectory)\n",
    "        vecs = utils.vectorize(trajectory)\n",
    "        \n",
    "        self.trajectory = trajectory\n",
    "        self.vecs = vecs\n",
    "        self.gname = sample.gname"
   ]
  },
  {
   "cell_type": "code",
   "execution_count": 6,
   "metadata": {},
   "outputs": [
    {
     "name": "stdout",
     "output_type": "stream",
     "text": [
      "processed 1000 samples\n",
      "processed 2000 samples\n",
      "processed 3000 samples\n",
      "processed 4000 samples\n"
     ]
    }
   ],
   "source": [
    "# Resample, scale, translate and convert to floats\n",
    "preprocessed_samples = []\n",
    "for i, s in enumerate(ds.samples, 64):\n",
    "    ps = PreprocessedSample(s)\n",
    "    if i % 1000 == 0:\n",
    "        print(f\"processed {i} samples\")\n",
    "    preprocessed_samples.append(ps)"
   ]
  },
  {
   "cell_type": "code",
   "execution_count": 7,
   "metadata": {},
   "outputs": [
    {
     "name": "stdout",
     "output_type": "stream",
     "text": [
      "(4800, 128)\n"
     ]
    }
   ],
   "source": [
    "preprocessed_x = np.array([p.trajectory.flatten() for p in preprocessed_samples])\n",
    "preprocessed_x = preprocessed_x.astype(np.float32)\n",
    "print(preprocessed_x.shape)"
   ]
  },
  {
   "cell_type": "code",
   "execution_count": 11,
   "metadata": {},
   "outputs": [],
   "source": [
    "import os\n",
    "os.mkdir(\"datasets/gds_as_flat_series/\")"
   ]
  },
  {
   "cell_type": "code",
   "execution_count": 12,
   "metadata": {},
   "outputs": [
    {
     "name": "stdout",
     "output_type": "stream",
     "text": [
      "(4800, 16)\n"
     ]
    }
   ],
   "source": [
    "# Encode labels\n",
    "preprocessed_y = [p.gname for p in preprocessed_samples]\n",
    "preprocessed_y = np.array(preprocessed_y).reshape(-1, 1)\n",
    "oh = OneHotEncoder()\n",
    "oh.fit(preprocessed_y)\n",
    "preprocessed_y = oh.transform(preprocessed_y).toarray()\n",
    "preprocessed_y = preprocessed_y.astype(np.float32)\n",
    "print(preprocessed_y.shape)\n",
    "\n",
    "with open(\"datasets/gds_as_flat_series/oh_encoder\", \"wb\") as f:\n",
    "    pickle.dump(oh, f)"
   ]
  },
  {
   "cell_type": "code",
   "execution_count": 13,
   "metadata": {},
   "outputs": [],
   "source": [
    "# Split the data into training and testing and save locally for quick loads in the future\n",
    "X_train, X_test, y_train, y_test = train_test_split(preprocessed_x, preprocessed_y, test_size=0.2, train_size=0.8, random_state=42, shuffle=True, stratify=preprocessed_y)\n",
    "\n",
    "X_train = torch.from_numpy(X_train)\n",
    "X_test = torch.from_numpy(X_test)\n",
    "y_train = torch.from_numpy(y_train)\n",
    "y_test = torch.from_numpy(y_test)"
   ]
  },
  {
   "cell_type": "code",
   "execution_count": 14,
   "metadata": {},
   "outputs": [],
   "source": [
    "torch.save(X_train, \"datasets/gds_as_flat_series/X_train_ts.pt\")\n",
    "torch.save(X_test, \"datasets/gds_as_flat_series/X_test_ts.pt\")\n",
    "torch.save(y_train, \"datasets/gds_as_flat_series/y_train_ts.pt\")\n",
    "torch.save(y_test, \"datasets/gds_as_flat_series/y_test_ts.pt\")"
   ]
  }
 ],
 "metadata": {
  "interpreter": {
   "hash": "9a4d8ef1996b3991b84c15de8c18497dd15ff1c51d759e9264ed8fae168a3c98"
  },
  "kernelspec": {
   "display_name": "Python 3.9.6 64-bit ('venv': venv)",
   "language": "python",
   "name": "python3"
  },
  "language_info": {
   "codemirror_mode": {
    "name": "ipython",
    "version": 3
   },
   "file_extension": ".py",
   "mimetype": "text/x-python",
   "name": "python",
   "nbconvert_exporter": "python",
   "pygments_lexer": "ipython3",
   "version": "3.9.6"
  },
  "orig_nbformat": 4
 },
 "nbformat": 4,
 "nbformat_minor": 2
}
