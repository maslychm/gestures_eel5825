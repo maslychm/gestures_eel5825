{
 "cells": [
  {
   "cell_type": "code",
   "execution_count": 1,
   "metadata": {},
   "outputs": [],
   "source": [
    "import numpy as np\n",
    "import matplotlib.pyplot as plt\n",
    "import pandas as pd\n",
    "import torch \n",
    "import torch.nn.functional as F\n",
    "from PIL import Image\n",
    "from sklearn.preprocessing import LabelEncoder, OneHotEncoder\n",
    "from torchvision import datasets, transforms\n",
    "from torch.utils.data import DataLoader\n",
    "from sklearn.model_selection import train_test_split"
   ]
  },
  {
   "cell_type": "code",
   "execution_count": 4,
   "metadata": {},
   "outputs": [],
   "source": [
    "#Generate dataset\n",
    "X = []\n",
    "y = []\n",
    "\n",
    "names = [\"arrow\", \"caret\", \"check\", \"circle\", \"delete_mark\", \"left_curly_brace\", \"left_sq_bracket\", \"pigtail\", \"question_mark\", \"rectangle\", \n",
    "        \"right_curly_brace\", \"right_sq_bracket\", \"star\", \"triangle\", \"v\", \"x\"]\n",
    "for name in names:\n",
    "    for i in range(2, 12):\n",
    "        for j in range(30):\n",
    "            if j < 10:\n",
    "                if i < 10:\n",
    "                    im = Image.open(f'datasets/gds_as_images/{name}_0{i}__{j}.bmp')\n",
    "                else:\n",
    "                    im = Image.open(f'datasets/gds_as_images/{name}_{i}__{j}.bmp')\n",
    "            else:\n",
    "                if i < 10:\n",
    "                    im = Image.open(f'datasets/gds_as_images/{name}_0{i}_{j}.bmp')\n",
    "                else:\n",
    "                    im = Image.open(f'datasets/gds_as_images/{name}_{i}_{j}.bmp')\n",
    "            \n",
    "            data = np.asarray(im)\n",
    "            X.append(data)\n",
    "            y.append(name)\n",
    "X = np.asarray(X)\n",
    "y = np.asarray(y)\n",
    "    "
   ]
  },
  {
   "cell_type": "code",
   "execution_count": 5,
   "metadata": {},
   "outputs": [],
   "source": [
    "y_reshaped  = y.reshape(-1, 1)\n",
    "oh = OneHotEncoder()\n",
    "oh.fit(y_reshaped)\n",
    "le = LabelEncoder()\n",
    "le.fit(y)\n",
    "y_le = le.transform(y)\n",
    "y_oh = oh.transform(y_reshaped).toarray()\n",
    "y_le = y_le.reshape(-1, 1)"
   ]
  },
  {
   "cell_type": "code",
   "execution_count": 6,
   "metadata": {},
   "outputs": [],
   "source": [
    "X_train, X_test, y_train, y_test = train_test_split(X, y_le, test_size=0.2, train_size=0.8, random_state=42, shuffle=True, stratify=y)"
   ]
  },
  {
   "cell_type": "code",
   "execution_count": 7,
   "metadata": {},
   "outputs": [],
   "source": [
    "X_train = torch.from_numpy(X_train)\n",
    "X_test = torch.from_numpy(X_test)\n",
    "y_train = torch.from_numpy(y_train)\n",
    "y_test = torch.from_numpy(y_test)"
   ]
  },
  {
   "cell_type": "code",
   "execution_count": 8,
   "metadata": {},
   "outputs": [
    {
     "name": "stdout",
     "output_type": "stream",
     "text": [
      "torch.Size([3840, 28, 28])\n",
      "torch.Size([3840, 1])\n",
      "torch.Size([960, 28, 28])\n",
      "torch.Size([960, 1])\n"
     ]
    }
   ],
   "source": [
    "print(X_train.shape)\n",
    "print(y_train.shape)\n",
    "print(X_test.shape)\n",
    "print(y_test.shape)"
   ]
  },
  {
   "cell_type": "code",
   "execution_count": 9,
   "metadata": {},
   "outputs": [],
   "source": [
    "import os\n",
    "os.makedirs('datasets/gds_as_tensors')"
   ]
  },
  {
   "cell_type": "code",
   "execution_count": 10,
   "metadata": {},
   "outputs": [],
   "source": [
    "X_train = X_train.view([-1, 1, 28, 28])\n",
    "X_test = X_test.view([-1, 1, 28, 28])\n",
    "torch.save(X_train, 'datasets/gds_as_tensors/X_train.pt')\n",
    "torch.save(y_train, 'datasets/gds_as_tensors/y_train.pt')\n",
    "torch.save(X_test, 'datasets/gds_as_tensors/X_test.pt')\n",
    "torch.save(y_test, 'datasets/gds_as_tensors/y_test.pt')"
   ]
  }
 ],
 "metadata": {
  "interpreter": {
   "hash": "07efdcd4b820c98a756949507a4d29d7862823915ec7477944641bea022f4f62"
  },
  "kernelspec": {
   "display_name": "Python 3.8.8 64-bit ('base': conda)",
   "name": "python3"
  },
  "language_info": {
   "codemirror_mode": {
    "name": "ipython",
    "version": 3
   },
   "file_extension": ".py",
   "mimetype": "text/x-python",
   "name": "python",
   "nbconvert_exporter": "python",
   "pygments_lexer": "ipython3",
   "version": "3.9.6"
  },
  "orig_nbformat": 4
 },
 "nbformat": 4,
 "nbformat_minor": 2
}
