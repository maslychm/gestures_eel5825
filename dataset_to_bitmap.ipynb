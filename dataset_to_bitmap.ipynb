{
 "cells": [
  {
   "cell_type": "code",
   "execution_count": 11,
   "metadata": {},
   "outputs": [],
   "source": [
    "from dataset import Dataset, Sample\n",
    "import numpy as np\n",
    "import matplotlib.pyplot as plt\n",
    "from scipy import misc\n",
    "from skimage import data, color\n",
    "import cv2\n",
    "from PIL import Image\n",
    "\n",
    "rng = np.random.default_rng(2021)"
   ]
  },
  {
   "cell_type": "code",
   "execution_count": 12,
   "metadata": {},
   "outputs": [],
   "source": [
    "# Load the dataset\n",
    "ds = Dataset.Load(\"datasets/gds/training/\")"
   ]
  },
  {
   "cell_type": "code",
   "execution_count": 18,
   "id": "7eb3ab59",
   "metadata": {},
   "outputs": [],
   "source": [
    "import os\n",
    "os.makedirs(\"datasets/gds_as_images/\")"
   ]
  },
  {
   "cell_type": "code",
   "execution_count": 19,
   "metadata": {},
   "outputs": [],
   "source": [
    "# Visualize a single sample as rgb (next tep is a right color)\n",
    "# Also an idea is to interpolate color over time for the net to figure out more dependencies\n",
    "\n",
    "def time_series_to_matrix(sample: Sample):\n",
    "\n",
    "    fig = plt.figure(figsize=(1,1), dpi=28)\n",
    "    ax = fig.add_axes([0,0,1,1])\n",
    "    ax.axis(\"off\")\n",
    "    ax.plot([pt[0] for pt in sample.trajectory], [pt[1] for pt in sample.trajectory], linewidth=5, color=\"black\")\n",
    "\n",
    "    fig.canvas.draw()\n",
    "\n",
    "    data = np.frombuffer(fig.canvas.tostring_rgb(), dtype=np.uint8)\n",
    "    data = data.reshape(fig.canvas.get_width_height()[::-1] + (3,))\n",
    "\n",
    "    plt.close()\n",
    "    \n",
    "    data = cv2.cvtColor(data, cv2.COLOR_RGB2GRAY)\n",
    "\n",
    "    return data"
   ]
  },
  {
   "cell_type": "code",
   "execution_count": 20,
   "metadata": {},
   "outputs": [
    {
     "name": "stdout",
     "output_type": "stream",
     "text": [
      "generated 0/4800 images\n",
      "generated 1000/4800 images\n",
      "generated 2000/4800 images\n",
      "generated 3000/4800 images\n",
      "generated 4000/4800 images\n"
     ]
    }
   ],
   "source": [
    "for i, sample in enumerate(ds.samples):\n",
    "    mat = time_series_to_matrix(sample)\n",
    "    im = Image.fromarray(mat)\n",
    "    im.save(f\"datasets/gds_as_images/{sample.gname}_{sample.sname[-2:]}_{sample.ename[-2:]}.bmp\")\n",
    "    if i % 1000 == 0:\n",
    "        print(f\"generated {i}/{len(ds.samples)} images\")"
   ]
  }
 ],
 "metadata": {
  "interpreter": {
   "hash": "07efdcd4b820c98a756949507a4d29d7862823915ec7477944641bea022f4f62"
  },
  "kernelspec": {
   "display_name": "Python 3.8.8 64-bit ('base': conda)",
   "name": "python3"
  },
  "language_info": {
   "codemirror_mode": {
    "name": "ipython",
    "version": 3
   },
   "file_extension": ".py",
   "mimetype": "text/x-python",
   "name": "python",
   "nbconvert_exporter": "python",
   "pygments_lexer": "ipython3",
   "version": "3.9.6"
  }
 },
 "nbformat": 4,
 "nbformat_minor": 5
}
