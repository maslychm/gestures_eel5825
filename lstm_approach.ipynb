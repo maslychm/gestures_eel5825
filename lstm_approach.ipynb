{
 "cells": [
  {
   "cell_type": "code",
   "execution_count": 1,
   "metadata": {},
   "outputs": [],
   "source": [
    "import torch\n",
    "import torch.nn as nn"
   ]
  },
  {
   "cell_type": "code",
   "execution_count": 2,
   "metadata": {},
   "outputs": [],
   "source": [
    "import numpy as np\n",
    "import matplotlib.pyplot as plt\n",
    "import seaborn as sns\n",
    "sns.set_theme(style=\"whitegrid\")"
   ]
  },
  {
   "cell_type": "code",
   "execution_count": 3,
   "metadata": {},
   "outputs": [],
   "source": [
    "from dataset import Dataset, Sample\n",
    "import utils"
   ]
  },
  {
   "cell_type": "code",
   "execution_count": 4,
   "metadata": {},
   "outputs": [],
   "source": [
    "ds = Dataset.Load(\"../gds/training\") # Load the dataset"
   ]
  },
  {
   "cell_type": "code",
   "execution_count": 5,
   "metadata": {},
   "outputs": [],
   "source": [
    "class PreprocessedSample(object):\n",
    "    def __init__(self, sample: Sample, n=64):\n",
    "        trajectory = utils.resample(sample.trajectory, n)\n",
    "        trajectory = utils.scale_to_unit_square(trajectory)\n",
    "        vecs = utils.vectorize(trajectory)\n",
    "\n",
    "        self.trajectory = trajectory\n",
    "        self.vecs = vecs\n",
    "        self.gname = sample.gname"
   ]
  },
  {
   "cell_type": "code",
   "execution_count": 6,
   "metadata": {},
   "outputs": [
    {
     "name": "stdout",
     "output_type": "stream",
     "text": [
      "processed 1000 samples\n",
      "processed 2000 samples\n",
      "processed 3000 samples\n",
      "processed 4000 samples\n"
     ]
    }
   ],
   "source": [
    "# Resample, scale, translate and convert to floats\n",
    "preprocessed_samples = []\n",
    "for i, s in enumerate(ds.samples):\n",
    "    ps = PreprocessedSample(s, 100)\n",
    "    if i % 1000 == 0 and i > 0:\n",
    "        print(f\"processed {i} samples\")\n",
    "    preprocessed_samples.append(ps)"
   ]
  },
  {
   "cell_type": "code",
   "execution_count": 7,
   "metadata": {},
   "outputs": [
    {
     "name": "stdout",
     "output_type": "stream",
     "text": [
      "(4800, 200)\n"
     ]
    }
   ],
   "source": [
    "preprocessed_x = np.array([p.trajectory.flatten() for p in preprocessed_samples])\n",
    "preprocessed_x = preprocessed_x.astype(np.float32)\n",
    "print(preprocessed_x.shape)"
   ]
  },
  {
   "cell_type": "code",
   "execution_count": 8,
   "metadata": {},
   "outputs": [],
   "source": [
    "from sklearn.preprocessing import OneHotEncoder\n",
    "from sklearn.model_selection import train_test_split"
   ]
  },
  {
   "cell_type": "code",
   "execution_count": 9,
   "metadata": {},
   "outputs": [
    {
     "name": "stdout",
     "output_type": "stream",
     "text": [
      "(4800, 16)\n"
     ]
    }
   ],
   "source": [
    "# Encode labels\n",
    "preprocessed_y = [p.gname for p in preprocessed_samples]\n",
    "preprocessed_y = np.array(preprocessed_y).reshape(-1, 1)\n",
    "oh = OneHotEncoder()\n",
    "oh.fit(preprocessed_y)\n",
    "preprocessed_y = oh.transform(preprocessed_y).toarray()\n",
    "preprocessed_y = preprocessed_y.astype(np.float32)\n",
    "print(preprocessed_y.shape)"
   ]
  },
  {
   "cell_type": "code",
   "execution_count": 10,
   "metadata": {},
   "outputs": [],
   "source": [
    "# Split the data into training and testing and save locally for quick loads in the future\n",
    "X_train, X_test, y_train, y_test = train_test_split(preprocessed_x, preprocessed_y, test_size=0.2, train_size=0.8, random_state=42, shuffle=True, stratify=preprocessed_y)\n",
    "\n",
    "X_train = torch.from_numpy(X_train)\n",
    "X_test = torch.from_numpy(X_test)\n",
    "y_train = torch.from_numpy(y_train)\n",
    "y_test = torch.from_numpy(y_test)"
   ]
  },
  {
   "cell_type": "code",
   "execution_count": 11,
   "metadata": {},
   "outputs": [
    {
     "name": "stdout",
     "output_type": "stream",
     "text": [
      "torch.Size([3840, 200])\n",
      "torch.Size([960, 200])\n",
      "torch.Size([3840, 16])\n",
      "torch.Size([960, 16])\n"
     ]
    }
   ],
   "source": [
    "print(X_train.shape)\n",
    "print(X_test.shape)\n",
    "print(y_train.shape)\n",
    "print(y_test.shape)"
   ]
  },
  {
   "cell_type": "markdown",
   "metadata": {},
   "source": [
    "## Define our LSTM Network"
   ]
  },
  {
   "cell_type": "code",
   "execution_count": 12,
   "metadata": {},
   "outputs": [
    {
     "name": "stderr",
     "output_type": "stream",
     "text": [
      "C:\\Users\\musta\\AppData\\Local\\Temp/ipykernel_15544/3251835444.py:5: UserWarning: To copy construct from a tensor, it is recommended to use sourceTensor.clone().detach() or sourceTensor.clone().detach().requires_grad_(True), rather than torch.tensor(sourceTensor).\n",
      "  self.x = torch.tensor(x, dtype=torch.float32)\n",
      "C:\\Users\\musta\\AppData\\Local\\Temp/ipykernel_15544/3251835444.py:6: UserWarning: To copy construct from a tensor, it is recommended to use sourceTensor.clone().detach() or sourceTensor.clone().detach().requires_grad_(True), rather than torch.tensor(sourceTensor).\n",
      "  self.y = torch.tensor(y, dtype=torch.float32)\n"
     ]
    }
   ],
   "source": [
    "from torch.utils.data import Dataset\n",
    "\n",
    "class TimeSeries(Dataset):\n",
    "    def __init__(self, x, y):\n",
    "        self.x = torch.tensor(x, dtype=torch.float32)\n",
    "        self.y = torch.tensor(y, dtype=torch.float32)\n",
    "        self.len = x.shape[0]\n",
    "    \n",
    "    def __getitem__(self, index):\n",
    "        return self.x[index], self.y[index]\n",
    "    \n",
    "    def __len__(self):\n",
    "        return self.len\n",
    "\n",
    "dataset = TimeSeries(X_train, y_train)\n",
    "\n",
    "# data loader\n",
    "from torch.utils.data import DataLoader\n",
    "train_loader = DataLoader(dataset, batch_size=64, shuffle=True)"
   ]
  },
  {
   "cell_type": "code",
   "execution_count": 13,
   "metadata": {},
   "outputs": [],
   "source": [
    "class LSTMNetwork(nn.Module):\n",
    "    def __init__(self, num_features, num_classes):\n",
    "        super(LSTMNetwork, self).__init__()\n",
    "        self.num_features = num_features\n",
    "        self.num_classes = num_classes\n",
    "\n",
    "        # Encoder\n",
    "        self.lstm1 = nn.LSTM(num_features, 128, 1, batch_first=True)\n",
    "        self.lstm2 = nn.LSTM(num_features, 128, 1, batch_first=True)\n",
    "        # self.lstm2 = nn.LSTM(input_size=8, hidden_size=5, num_layers=1, batch_first=True)\n",
    "\n",
    "        # Classifier\n",
    "        # self.classifier = nn.Sequential()\n",
    "        self.classifier = nn.Linear(128, 16)\n",
    "\n",
    "    def forward(self, x):\n",
    "        output, _status = self.lstm1(x)\n",
    "        output = output[:, -1, :]\n",
    "        \n",
    "        output, _status = self.lstm2(x)\n",
    "        output = output[:, -1, :]\n",
    "        \n",
    "        output = self.classifier(torch.relu(output))\n",
    "        # output = self.classifier(output)\n",
    "        return output\n"
   ]
  },
  {
   "cell_type": "code",
   "execution_count": 14,
   "metadata": {},
   "outputs": [],
   "source": [
    "model = LSTMNetwork(num_features=200, num_classes=16)"
   ]
  },
  {
   "cell_type": "code",
   "execution_count": 15,
   "metadata": {},
   "outputs": [],
   "source": [
    "criterion = torch.nn.MSELoss()\n",
    "optimizer = torch.optim.Adam(model.parameters(), lr=0.0001)\n",
    "epochs = 400"
   ]
  },
  {
   "cell_type": "code",
   "execution_count": 16,
   "metadata": {},
   "outputs": [
    {
     "name": "stdout",
     "output_type": "stream",
     "text": [
      "Epoch [0/400], Loss: 0.052741\n",
      "Epoch [50/400], Loss: 0.002865\n",
      "Epoch [100/400], Loss: 0.001708\n",
      "Epoch [150/400], Loss: 0.001203\n",
      "Epoch [200/400], Loss: 0.000928\n",
      "Epoch [250/400], Loss: 0.000749\n",
      "Epoch [300/400], Loss: 0.000623\n",
      "Epoch [350/400], Loss: 0.000568\n"
     ]
    }
   ],
   "source": [
    "\n",
    "import time\n",
    "time_start = time.perf_counter()\n",
    "\n",
    "train_loss, test_loss = {}, {}\n",
    "train_accuracy, test_accuracy = {}, {}\n",
    "\n",
    "for e in range(epochs):\n",
    "\n",
    "    # Train\n",
    "    \n",
    "    model.train()\n",
    "    if e < int(epochs * .8):\n",
    "        for j, (batch, labels) in enumerate(train_loader):\n",
    "            optimizer.zero_grad()\n",
    "            outputs = model(batch.view(-1, 1, 200)).reshape(-1, 16)\n",
    "            loss = criterion(outputs, labels)\n",
    "            loss.backward()\n",
    "            optimizer.step()\n",
    "            \n",
    "    else:\n",
    "        optimizer.zero_grad()\n",
    "        outputs = model(X_train.view(-1, 1, 200)).reshape(-1, 16)\n",
    "        loss = criterion(outputs, y_train)\n",
    "        loss.backward()\n",
    "        optimizer.step()\n",
    "\n",
    "    # Evaluate\n",
    "    with torch.no_grad():\n",
    "\n",
    "        # performance on testing samples\n",
    "        outputs = model(X_test.view(-1, 1, 200)).reshape(-1, 16)\n",
    "        loss = criterion(outputs, y_test)\n",
    "\n",
    "        test_loss[e] = loss.item()\n",
    "        test_accuracy[e] = outputs.argmax(dim=1).eq(\n",
    "            y_test.argmax(dim=1)).sum().item() / y_test.shape[0]\n",
    "\n",
    "        # performance on training samples\n",
    "        outputs = model(X_train.view(-1, 1, 200)).reshape(-1, 16)\n",
    "        loss = criterion(outputs, y_train)\n",
    "\n",
    "        train_loss[e] = loss.item()\n",
    "        train_accuracy[e] = outputs.argmax(dim=1).eq(\n",
    "            y_train.argmax(dim=1)).sum().item() / y_train.shape[0]\n",
    "\n",
    "    if e % 50 == 0:\n",
    "        print(\n",
    "            f\"Epoch [{e}/{epochs}], Loss: {float(loss.item()):1.6f}\")\n"
   ]
  },
  {
   "cell_type": "code",
   "execution_count": 17,
   "metadata": {},
   "outputs": [],
   "source": [
    "sns.set_theme(style=\"whitegrid\")\n",
    "sns.set_context(\"paper\", font_scale=1.5, rc={\"lines.linewidth\": 2.5})"
   ]
  },
  {
   "cell_type": "code",
   "execution_count": 18,
   "metadata": {},
   "outputs": [],
   "source": [
    "def plot_all_losses(train_l=None, test_l=None, train_ac=None, test_ac=None, title=None):\n",
    "    fig, axes = plt.subplots(nrows=2, ncols=2, figsize=(8, 6), dpi=100)\n",
    "    \n",
    "    if title:\n",
    "        fig.suptitle(title)\n",
    "    if train_l:\n",
    "        axes[0][0].plot(train_l)\n",
    "        axes[0][0].set_title(\"Training Loss\")\n",
    "    if test_l:\n",
    "        axes[0][1].plot(test_l)\n",
    "        axes[0][1].set_title(\"Test Loss\")\n",
    "    if train_ac:\n",
    "        axes[1][0].plot(train_ac)\n",
    "        axes[1][0].set_title(\"Training Accuracy\")\n",
    "    if test_ac:\n",
    "        axes[1][1].plot(test_ac)\n",
    "        axes[1][1].set_title(\"Test Accuracy\")\n",
    "\n",
    "    plt.tight_layout()\n"
   ]
  },
  {
   "cell_type": "code",
   "execution_count": 19,
   "metadata": {},
   "outputs": [
    {
     "name": "stdout",
     "output_type": "stream",
     "text": [
      "Training data accuracy 0.9987\n",
      "Testing data accuracy 0.9938\n"
     ]
    },
    {
     "data": {
      "image/png": "[encoded data removed]",
      "text/plain": [
       "<Figure size 800x600 with 4 Axes>"
      ]
     },
     "metadata": {},
     "output_type": "display_data"
    }
   ],
   "source": [
    "# Final performance metrics and plots\n",
    "train_pred = model(X_train.view(-1, 1, 200)).reshape(-1, 16)\n",
    "correct_count = train_pred.argmax(dim=1).eq(y_train.argmax(dim=1)).sum().item()\n",
    "print(f\"Training data accuracy {float(correct_count / y_train.shape[0]):1.4}\")\n",
    "\n",
    "test_pred = model(X_test.view(-1, 1, 200)).reshape(-1, 16)\n",
    "correct_count = test_pred.argmax(dim=1).eq(y_test.argmax(dim=1)).sum().item()\n",
    "print(f\"Testing data accuracy {float(correct_count / y_test.shape[0]):1.4}\")\n",
    "\n",
    "\n",
    "train_losses = list(train_loss.values())\n",
    "train_accuracies = list(train_accuracy.values())\n",
    "test_losses = list(test_loss.values())\n",
    "test_accuracies = list(test_accuracy.values())\n",
    "\n",
    "plot_all_losses(train_losses, test_losses, train_accuracies, test_accuracies)#, \"Losses and Accuracy\")"
   ]
  }
 ],
 "metadata": {
  "interpreter": {
   "hash": "9a4d8ef1996b3991b84c15de8c18497dd15ff1c51d759e9264ed8fae168a3c98"
  },
  "kernelspec": {
   "display_name": "Python 3.9.6 64-bit ('venv': venv)",
   "language": "python",
   "name": "python3"
  },
  "language_info": {
   "codemirror_mode": {
    "name": "ipython",
    "version": 3
   },
   "file_extension": ".py",
   "mimetype": "text/x-python",
   "name": "python",
   "nbconvert_exporter": "python",
   "pygments_lexer": "ipython3",
   "version": "3.8.5"
  },
  "orig_nbformat": 4
 },
 "nbformat": 4,
 "nbformat_minor": 2
}
