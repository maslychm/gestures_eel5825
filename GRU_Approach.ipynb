{
  "cells": [
    {
      "cell_type": "code",
      "execution_count": 1,
      "metadata": {
        "id": "I65MFEHrLfk6"
      },
      "outputs": [],
      "source": [
        "import torch\n",
        "import torch.nn as nn\n",
        "import numpy as np\n",
        "import matplotlib.pyplot as plt\n",
        "from dataset import Dataset, Sample\n",
        "import utils\n",
        "from sklearn.preprocessing import OneHotEncoder\n",
        "from sklearn.model_selection import train_test_split\n",
        "from torch.utils.data import DataLoader, TensorDataset\n",
        "import time\n",
        "from sklearn.metrics import accuracy_score\n",
        "import seaborn as sns\n",
        "sns.set_theme(style='whitegrid')"
      ]
    },
    {
      "cell_type": "code",
      "execution_count": 2,
      "metadata": {
        "id": "v3kyGu_qMP_Z"
      },
      "outputs": [],
      "source": [
        "class PreprocessedSample(object):\n",
        "    def __init__(self, sample: Sample, n=64):\n",
        "        trajectory = utils.resample(sample.trajectory, n)\n",
        "        trajectory = utils.scale_to_unit_square(trajectory)\n",
        "        vecs = utils.vectorize(trajectory)\n",
        "        \n",
        "        self.trajectory = trajectory\n",
        "        self.vecs = vecs\n",
        "        self.gname = sample.gname\n",
        "\n",
        "ds = Dataset.Load(\"../gds/training\") # Load the dataset"
      ]
    },
    {
      "cell_type": "code",
      "execution_count": 3,
      "metadata": {
        "colab": {
          "base_uri": "https://localhost:8080/"
        },
        "id": "SCZBc0wGMYFa",
        "outputId": "7f536e7e-454f-4050-8180-ce27ac845828"
      },
      "outputs": [
        {
          "name": "stdout",
          "output_type": "stream",
          "text": [
            "processed 1000 samples\n",
            "processed 2000 samples\n",
            "processed 3000 samples\n",
            "processed 4000 samples\n",
            "(4800, 200)\n"
          ]
        }
      ],
      "source": [
        "# Resample, scale, translate and convert to floats\n",
        "preprocessed_samples = []\n",
        "for i, s in enumerate(ds.samples):\n",
        "    ps = PreprocessedSample(s, 100)\n",
        "    if i % 1000 == 0 and i > 0:\n",
        "        print(f\"processed {i} samples\")\n",
        "    preprocessed_samples.append(ps)\n",
        "\n",
        "preprocessed_x = np.array([p.trajectory.flatten() for p in preprocessed_samples])\n",
        "preprocessed_x = preprocessed_x.astype(np.float32)\n",
        "print(preprocessed_x.shape)"
      ]
    },
    {
      "cell_type": "code",
      "execution_count": 4,
      "metadata": {
        "colab": {
          "base_uri": "https://localhost:8080/"
        },
        "id": "Qms7TiloQRMR",
        "outputId": "74507158-ecbe-45fc-da78-856fe36521f5"
      },
      "outputs": [
        {
          "name": "stdout",
          "output_type": "stream",
          "text": [
            "(4800, 16)\n"
          ]
        }
      ],
      "source": [
        "# Encode labels\n",
        "preprocessed_y = [p.gname for p in preprocessed_samples]\n",
        "preprocessed_y = np.array(preprocessed_y).reshape(-1, 1)\n",
        "oh = OneHotEncoder()\n",
        "oh.fit(preprocessed_y)\n",
        "preprocessed_y = oh.transform(preprocessed_y).toarray()\n",
        "preprocessed_y = preprocessed_y.astype(np.float32)\n",
        "print(preprocessed_y.shape)\n",
        "\n",
        "X_train, X_test, y_train, y_test = train_test_split(preprocessed_x, preprocessed_y, test_size=0.2, train_size=0.8, random_state=42, shuffle=True, stratify=preprocessed_y)"
      ]
    },
    {
      "cell_type": "code",
      "execution_count": 5,
      "metadata": {
        "id": "AYHI23NwVDfC"
      },
      "outputs": [],
      "source": [
        "batch_size = 512\n",
        "train_data = TensorDataset(torch.from_numpy(X_train), torch.from_numpy(y_train))\n",
        "train_loader = DataLoader(train_data, batch_size=batch_size, drop_last=True)\n",
        "test_data = TensorDataset(torch.from_numpy(X_test), torch.from_numpy(y_test))\n",
        "test_loader = DataLoader(test_data, batch_size=960, drop_last=True)"
      ]
    },
    {
      "cell_type": "markdown",
      "metadata": {
        "id": "nryeeNnlCtpx"
      },
      "source": []
    },
    {
      "cell_type": "code",
      "execution_count": 6,
      "metadata": {
        "id": "OVRbTAT8VE-S"
      },
      "outputs": [],
      "source": [
        "device = torch.device(\"cuda\")\n",
        "class GRUNet(nn.Module):\n",
        "  def __init__(self, input_dim, hidden_dim, output_dim, n_layers, drop_prob=0.2):\n",
        "    super(GRUNet, self).__init__()\n",
        "    self.hidden_dim = hidden_dim\n",
        "    self.n_layers = n_layers\n",
        "\n",
        "    self.gru = nn.GRU(input_dim, hidden_dim, n_layers, dropout=drop_prob, batch_first=True)\n",
        "    self.fc = nn.Linear(hidden_dim, output_dim)\n",
        "    self.relu = nn.ReLU()\n",
        "\n",
        "  def forward(self, x, h):\n",
        "    out, h = self.gru(x, h)\n",
        "    out = self.fc(self.relu(out[:, -1]))\n",
        "    return out, h\n",
        "\n",
        "  def init_hidden(self, batch_size):\n",
        "    weight = next(self.parameters()).data\n",
        "    hidden  = weight.new(self.n_layers, batch_size, self.hidden_dim).zero_().to(device)\n",
        "    return hidden\n"
      ]
    },
    {
      "cell_type": "code",
      "execution_count": 11,
      "metadata": {
        "id": "4jnPKMKGWmMW"
      },
      "outputs": [],
      "source": [
        "def train(train_loader, learning_rate, hidden_dim=256, epochs=5):\n",
        "  input_dim = next(iter(train_loader))[0].shape[1]\n",
        "  output_dim = 16\n",
        "  n_layers = 2\n",
        "\n",
        "  model = GRUNet(input_dim, hidden_dim, output_dim, n_layers)\n",
        "  model.to(device)\n",
        "\n",
        "  criterion = nn.MSELoss()\n",
        "  optimizer = torch.optim.Adam(model.parameters(), lr = learning_rate)\n",
        "  correct = 0\n",
        "\n",
        "  \n",
        "  print(\"Starting training of GRU Model.....\")\n",
        "  epoch_times = []\n",
        "  losses = []\n",
        "  accuracies = []\n",
        "  test_losses = []\n",
        "  test_accuracies = []\n",
        "\n",
        "\n",
        "  for epoch in range(1, epochs+1):\n",
        "    model.train()\n",
        "    h = model.init_hidden(batch_size)\n",
        "    true_labels = []\n",
        "    predictions = []\n",
        "    \n",
        "    average_loss = 0.0\n",
        "    counter = 0\n",
        "    for batch_idx, (x, label) in enumerate(train_loader):\n",
        "      \n",
        "      x = x.view(-1, 1, 200)\n",
        "      h = h.data \n",
        "\n",
        "      model.zero_grad()\n",
        "\n",
        "      out, h = model(x.to(device).float(), h)\n",
        "      out.reshape(-1, 16)\n",
        "      loss = criterion(out, label.to(device).float())\n",
        "\n",
        "      loss.backward()\n",
        "      optimizer.step()\n",
        "\n",
        "      true_label = label.argmax(dim=1, keepdim=True)\n",
        "      prediction = out.argmax(dim=1, keepdim=True)\n",
        "      \n",
        "      true_labels.append(true_label.to('cpu').numpy()) \n",
        "      predictions.append(prediction.to('cpu').numpy())\n",
        "\n",
        "      #correct = prediction.to(device).eq(true_label.to(device)).sum()\n",
        "      \n",
        "      average_loss += loss.item()\n",
        "\n",
        "      \n",
        "\n",
        "    true_labels = np.vstack(true_labels)\n",
        "    predictions = np.vstack(predictions)\n",
        "    \n",
        "\n",
        "    losses.append(average_loss/len(train_loader))\n",
        "    accuracies.append(accuracy_score(true_labels, predictions))\n",
        "    \n",
        "    \n",
        "    if epoch % 50 == 0:\n",
        "        print(\"Epoch {}/{} Done, Total Loss: {}, Accuracy: {}%\".format(epoch, epochs, average_loss/len(train_loader), accuracy_score(true_labels, predictions) * 100))\n",
        "\n",
        "    test_loss, test_accuracy = test(model, \"cuda\", test_loader, epoch)\n",
        "    \n",
        "    test_losses.append(test_loss)\n",
        "    test_accuracies.append(test_accuracy)\n",
        "    \n",
        "    \n",
        "\n",
        "  return model, losses, accuracies, test_losses, test_accuracies\n",
        "\n",
        "\n",
        "def test(model, device, test_loader, epoch):\n",
        "    '''\n",
        "    Tests the model.\n",
        "    model: The model to train. Should already be in correct device.\n",
        "    device: 'cuda' or 'cpu'.\n",
        "    test_loader: dataloader for test samples.\n",
        "    '''\n",
        "    \n",
        "    # Set model to eval mode to notify all layers.\n",
        "    model.eval()\n",
        "    \n",
        "    losses = []\n",
        "    correct = 0\n",
        "    criterion = nn.MSELoss()\n",
        "    true_labels = []\n",
        "    predictions = []\n",
        "    accuracies = []\n",
        "    \n",
        "    # Set torch.no_grad() to disable gradient computation and backpropagation\n",
        "    with torch.no_grad():\n",
        "        h = model.init_hidden(X_test.shape[0])\n",
        "        for batch_idx, (x, label) in enumerate(test_loader):\n",
        "            x = x.view(-1, 1, 200)\n",
        "            h = h.data\n",
        "            # Predict for data by doing forward pass\n",
        "            out, h = model(x.to(device).float(), h)\n",
        "            \n",
        "            # ======================================================================\n",
        "            # Compute loss based on same criterion as training\n",
        "            # ----------------- YOUR CODE HERE ----------------------\n",
        "            #\n",
        "            # Remove NotImplementedError and assign correct loss function.\n",
        "            # Compute loss based on same criterion as training \n",
        "            loss = criterion(out, label.to(device).float())\n",
        "            \n",
        "            # Append loss to overall test loss\n",
        "            losses.append(loss.item())\n",
        "            \n",
        "            \n",
        "            true_label = label.argmax(dim=1, keepdim=True)\n",
        "            prediction = out.argmax(dim=1, keepdim=True)\n",
        "            \n",
        "            # Count correct predictions overall \n",
        "            true_labels.append(true_label.to('cpu').numpy()) \n",
        "            predictions.append(prediction.to('cpu').numpy())\n",
        "            \n",
        "            \n",
        "    true_labels = np.vstack(true_labels)\n",
        "    predictions = np.vstack(predictions)\n",
        "    \n",
        "    \n",
        "    if epoch % 50 == 0:\n",
        "        print(\"Predicting on test data....\")\n",
        "        print(\"Total Loss: {}, Accuracy: {}%\".format( \n",
        "            losses[0], accuracy_score(true_labels, predictions) * 100))\n",
        "\n",
        "    return losses[0], accuracy_score(true_labels, predictions) \n",
        "  \n",
        "def plot_all_losses(train_l=None, test_l=None, train_ac=None, test_ac=None, title=None):\n",
        "    fig, axes = plt.subplots(nrows=2, ncols=2, figsize=(8, 6), dpi=100)\n",
        "    \n",
        "    if title:\n",
        "        fig.suptitle(title)\n",
        "    if train_l:\n",
        "        axes[0][0].plot(train_l)\n",
        "        axes[0][0].set_title(\"Training Loss\")\n",
        "    if test_l:\n",
        "        axes[0][1].plot(test_l)\n",
        "        axes[0][1].set_title(\"Test Loss\")\n",
        "    if train_ac:\n",
        "        axes[1][0].plot(train_ac)\n",
        "        axes[1][0].set_title(\"Training Accuracy\")\n",
        "    if test_ac:\n",
        "        axes[1][1].plot(test_ac)\n",
        "        axes[1][1].set_title(\"Test Accuracy\")\n",
        "    \n",
        "    plt.tight_layout()\n",
        "       "
      ]
    },
    {
      "cell_type": "code",
      "execution_count": 12,
      "metadata": {
        "colab": {
          "base_uri": "https://localhost:8080/"
        },
        "id": "PN8R_aGoYTN-",
        "outputId": "bb2be599-716d-45d6-a0cd-9feaf306fd37"
      },
      "outputs": [
        {
          "name": "stdout",
          "output_type": "stream",
          "text": [
            "Starting training of GRU Model.....\n",
            "Epoch 50/300 Done, Total Loss: 0.0011256996326015464, Accuracy: 99.94419642857143%\n",
            "Predicting on test data....\n",
            "Total Loss: 0.0017545251175761223, Accuracy: 98.95833333333334%\n",
            "Epoch 100/300 Done, Total Loss: 0.0004112599542297955, Accuracy: 99.97209821428571%\n",
            "Predicting on test data....\n",
            "Total Loss: 0.0012977519072592258, Accuracy: 99.16666666666667%\n",
            "Epoch 150/300 Done, Total Loss: 0.00022543487180623094, Accuracy: 100.0%\n",
            "Predicting on test data....\n",
            "Total Loss: 0.0011571432696655393, Accuracy: 99.0625%\n",
            "Epoch 200/300 Done, Total Loss: 0.0003757913426462827, Accuracy: 99.88839285714286%\n",
            "Predicting on test data....\n",
            "Total Loss: 0.0012797645758837461, Accuracy: 98.85416666666667%\n",
            "Epoch 250/300 Done, Total Loss: 0.0001361283741841492, Accuracy: 100.0%\n",
            "Predicting on test data....\n",
            "Total Loss: 0.0010367638897150755, Accuracy: 99.0625%\n",
            "Epoch 300/300 Done, Total Loss: 0.00030891448841430247, Accuracy: 99.88839285714286%\n",
            "Predicting on test data....\n",
            "Total Loss: 0.0012756427749991417, Accuracy: 98.85416666666667%\n"
          ]
        },
        {
          "data": {
            "image/png": "[encoded data removed]",
            "text/plain": [
              "<Figure size 800x600 with 4 Axes>"
            ]
          },
          "metadata": {},
          "output_type": "display_data"
        }
      ],
      "source": [
        "lr = 0.001\n",
        "model, train_losses, train_accuracies, test_losses, test_accuracies = train(train_loader, learning_rate=lr, epochs=300)\n",
        "plot_all_losses(train_losses, test_losses, train_accuracies, test_accuracies)"
      ]
    }
  ],
  "metadata": {
    "accelerator": "GPU",
    "colab": {
      "name": "GRU_Approach.ipynb",
      "provenance": []
    },
    "kernelspec": {
      "display_name": "Python 3",
      "name": "python3"
    },
    "language_info": {
      "codemirror_mode": {
        "name": "ipython",
        "version": 3
      },
      "file_extension": ".py",
      "mimetype": "text/x-python",
      "name": "python",
      "nbconvert_exporter": "python",
      "pygments_lexer": "ipython3",
      "version": "3.8.5"
    }
  },
  "nbformat": 4,
  "nbformat_minor": 0
}
